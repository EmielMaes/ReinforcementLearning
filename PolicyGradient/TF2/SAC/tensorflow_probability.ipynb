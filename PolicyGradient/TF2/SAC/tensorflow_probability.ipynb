{
 "cells": [
  {
   "cell_type": "code",
   "execution_count": 1,
   "id": "biological-cooling",
   "metadata": {},
   "outputs": [],
   "source": [
    "import os\n",
    "import numpy as np\n",
    "import tensorflow as tf\n",
    "import tensorflow.keras as keras\n",
    "import tensorflow_probability as tfp\n",
    "from tensorflow.keras.layers import Dense \n",
    "import matplotlib.pyplot as plt"
   ]
  },
  {
   "cell_type": "markdown",
   "id": "fifth-scott",
   "metadata": {},
   "source": [
    "### 1. Inspect on how the tensorflow probability distribution works\n",
    "* https://www.tensorflow.org/probability/examples/TensorFlow_Distributions_Tutorial"
   ]
  },
  {
   "cell_type": "code",
   "execution_count": 2,
   "id": "aerial-pleasure",
   "metadata": {},
   "outputs": [],
   "source": [
    "mu = 5\n",
    "sigma = 1\n",
    "\n",
    "#Create the probabilities distribution\n",
    "probabilities = tfp.distributions.Normal(mu, sigma)\n",
    "\n",
    "#Here, we just sample on action\n",
    "actions = probabilities.sample().numpy()"
   ]
  },
  {
   "cell_type": "code",
   "execution_count": 3,
   "id": "defensive-sequence",
   "metadata": {},
   "outputs": [],
   "source": [
    "# Sample 1000 items from the probability distribution in order to see how the distribution looks like\n",
    "probability_list = []\n",
    "for i in range(0,1000):\n",
    "    probability_list.append(probabilities.sample().numpy())"
   ]
  },
  {
   "cell_type": "code",
   "execution_count": 4,
   "id": "functioning-abraham",
   "metadata": {},
   "outputs": [
    {
     "data": {
      "image/png": "[encoded data removed]",
      "text/plain": [
       "<Figure size 432x288 with 1 Axes>"
      ]
     },
     "metadata": {
      "needs_background": "light"
     },
     "output_type": "display_data"
    }
   ],
   "source": [
    "plt.hist(probability_list, density=True, bins=30)  # density=False would make counts\n",
    "plt.ylabel('Probability')\n",
    "plt.xlabel('Data');"
   ]
  },
  {
   "cell_type": "markdown",
   "id": "ongoing-wrong",
   "metadata": {},
   "source": [
    "### 2. Get an action: squeeze the sampled actions from the Gaussian distribution through the tanh and multiply by max_action"
   ]
  },
  {
   "cell_type": "code",
   "execution_count": 5,
   "id": "bright-opening",
   "metadata": {},
   "outputs": [],
   "source": [
    "#This max_action is defined by the environment, however, we just set it to a random number here\n",
    "max_action = 2\n",
    "\n",
    "action = tf.math.tanh(actions)*max_action"
   ]
  },
  {
   "cell_type": "code",
   "execution_count": 6,
   "id": "architectural-vermont",
   "metadata": {},
   "outputs": [
    {
     "data": {
      "text/plain": [
       "6.081686"
      ]
     },
     "execution_count": 6,
     "metadata": {},
     "output_type": "execute_result"
    }
   ],
   "source": [
    "actions"
   ]
  },
  {
   "cell_type": "code",
   "execution_count": 7,
   "id": "small-count",
   "metadata": {},
   "outputs": [
    {
     "data": {
      "text/plain": [
       "<tf.Tensor: shape=(), dtype=float32, numpy=1.9999794>"
      ]
     },
     "execution_count": 7,
     "metadata": {},
     "output_type": "execute_result"
    }
   ],
   "source": [
    "#The actions squeezed through a hyperbolic tangent function\n",
    "action"
   ]
  },
  {
   "cell_type": "markdown",
   "id": "academic-musical",
   "metadata": {},
   "source": [
    "### 3. Get the log probabilities for the actions (the log of the probability)\n",
    "Info on softmax (converts values into probabilities that sum up to 1):\n",
    "* https://towardsdatascience.com/softmax-function-simplified-714068bf8156#:~:text=Our%20output%20for%20the%20Softmax,by%20the%20feature%20matrix%20x."
   ]
  },
  {
   "cell_type": "code",
   "execution_count": 46,
   "id": "second-semiconductor",
   "metadata": {},
   "outputs": [],
   "source": [
    "from sklearn.utils.extmath import softmax"
   ]
  },
  {
   "cell_type": "markdown",
   "id": "portuguese-zambia",
   "metadata": {},
   "source": [
    "#### Calculation of probs and logprobs when you have certain values"
   ]
  },
  {
   "cell_type": "code",
   "execution_count": 53,
   "id": "greek-cameroon",
   "metadata": {},
   "outputs": [
    {
     "name": "stdout",
     "output_type": "stream",
     "text": [
      "[[9.93071181e-01 6.69126099e-03 8.21508855e-05 5.50673854e-05\n",
      "  1.00339318e-04]]\n",
      "[[-6.95293430e-03 -5.00695293e+00 -9.40695293e+00 -9.80695293e+00\n",
      "  -9.20695293e+00]]\n"
     ]
    }
   ],
   "source": [
    "actions = np.array([[10,5,0.6,0.2,0.8]])\n",
    "action_probabilities = softmax(actions)\n",
    "print(action_probabilities)\n",
    "log_probs = np.log(action_probabilities)\n",
    "print(log_probs)"
   ]
  },
  {
   "cell_type": "markdown",
   "id": "velvet-strand",
   "metadata": {},
   "source": [
    "#### Calculation of probs and logprobs when you have a probability density function"
   ]
  },
  {
   "cell_type": "code",
   "execution_count": 59,
   "id": "administrative-simon",
   "metadata": {},
   "outputs": [
    {
     "data": {
      "text/plain": [
       "['_TF_MODULE_IGNORED_PROPERTIES',\n",
       " '__abstractmethods__',\n",
       " '__class__',\n",
       " '__delattr__',\n",
       " '__dict__',\n",
       " '__dir__',\n",
       " '__doc__',\n",
       " '__eq__',\n",
       " '__format__',\n",
       " '__ge__',\n",
       " '__getattribute__',\n",
       " '__getitem__',\n",
       " '__gt__',\n",
       " '__hash__',\n",
       " '__init__',\n",
       " '__init_subclass__',\n",
       " '__iter__',\n",
       " '__le__',\n",
       " '__lt__',\n",
       " '__module__',\n",
       " '__ne__',\n",
       " '__new__',\n",
       " '__reduce__',\n",
       " '__reduce_ex__',\n",
       " '__repr__',\n",
       " '__setattr__',\n",
       " '__sizeof__',\n",
       " '__str__',\n",
       " '__subclasshook__',\n",
       " '__weakref__',\n",
       " '_abc_impl',\n",
       " '_add_variable_with_custom_getter',\n",
       " '_allow_nan_stats',\n",
       " '_batch_shape',\n",
       " '_batch_shape_tensor',\n",
       " '_call_cdf',\n",
       " '_call_log_cdf',\n",
       " '_call_log_prob',\n",
       " '_call_log_survival_function',\n",
       " '_call_prob',\n",
       " '_call_quantile',\n",
       " '_call_sample_n',\n",
       " '_call_survival_function',\n",
       " '_cdf',\n",
       " '_checkpoint_dependencies',\n",
       " '_composite_tensor_nonshape_params',\n",
       " '_composite_tensor_params',\n",
       " '_composite_tensor_shape_params',\n",
       " '_covariance',\n",
       " '_cross_entropy',\n",
       " '_default_event_space_bijector',\n",
       " '_deferred_dependencies',\n",
       " '_dtype',\n",
       " '_entropy',\n",
       " '_event_shape',\n",
       " '_event_shape_tensor',\n",
       " '_expand_sample_shape_to_vector',\n",
       " '_experimental_default_event_space_bijector',\n",
       " '_flatten',\n",
       " '_gather_saveables_for_checkpoint',\n",
       " '_graph_parents',\n",
       " '_handle_deferred_dependencies',\n",
       " '_initial_parameter_control_dependencies',\n",
       " '_is_scalar_helper',\n",
       " '_kl_divergence',\n",
       " '_list_extra_dependencies_for_serialization',\n",
       " '_list_functions_for_serialization',\n",
       " '_loc',\n",
       " '_log_cdf',\n",
       " '_log_prob',\n",
       " '_log_survival_function',\n",
       " '_lookup_dependency',\n",
       " '_map_resources',\n",
       " '_maybe_initialize_trackable',\n",
       " '_mean',\n",
       " '_mode',\n",
       " '_name',\n",
       " '_name_and_control_scope',\n",
       " '_name_based_attribute_restore',\n",
       " '_name_based_restores',\n",
       " '_name_scope',\n",
       " '_no_dependency',\n",
       " '_object_identifier',\n",
       " '_parameter_control_dependencies',\n",
       " '_parameter_properties',\n",
       " '_parameters',\n",
       " '_parameters_sanitized',\n",
       " '_params_event_ndims',\n",
       " '_preload_simple_restoration',\n",
       " '_quantile',\n",
       " '_reparameterization_type',\n",
       " '_restore_from_checkpoint_position',\n",
       " '_sample_control_dependencies',\n",
       " '_sample_n',\n",
       " '_scale',\n",
       " '_self_name_based_restores',\n",
       " '_self_saveable_object_factories',\n",
       " '_self_setattr_tracking',\n",
       " '_self_unconditional_checkpoint_dependencies',\n",
       " '_self_unconditional_deferred_dependencies',\n",
       " '_self_unconditional_dependency_names',\n",
       " '_self_update_uid',\n",
       " '_set_sample_static_shape',\n",
       " '_setattr_tracking',\n",
       " '_single_restoration_from_checkpoint_position',\n",
       " '_stddev',\n",
       " '_survival_function',\n",
       " '_tf_api_names',\n",
       " '_tf_api_names_v1',\n",
       " '_track_trackable',\n",
       " '_tracking_metadata',\n",
       " '_unconditional_checkpoint_dependencies',\n",
       " '_unconditional_dependency_names',\n",
       " '_update_uid',\n",
       " '_validate_args',\n",
       " '_variance',\n",
       " '_z',\n",
       " 'allow_nan_stats',\n",
       " 'batch_shape',\n",
       " 'batch_shape_tensor',\n",
       " 'cdf',\n",
       " 'copy',\n",
       " 'covariance',\n",
       " 'cross_entropy',\n",
       " 'dtype',\n",
       " 'entropy',\n",
       " 'event_shape',\n",
       " 'event_shape_tensor',\n",
       " 'experimental_default_event_space_bijector',\n",
       " 'is_scalar_batch',\n",
       " 'is_scalar_event',\n",
       " 'kl_divergence',\n",
       " 'loc',\n",
       " 'log_cdf',\n",
       " 'log_prob',\n",
       " 'log_survival_function',\n",
       " 'mean',\n",
       " 'mode',\n",
       " 'name',\n",
       " 'name_scope',\n",
       " 'param_shapes',\n",
       " 'param_static_shapes',\n",
       " 'parameter_properties',\n",
       " 'parameters',\n",
       " 'prob',\n",
       " 'quantile',\n",
       " 'reparameterization_type',\n",
       " 'sample',\n",
       " 'scale',\n",
       " 'stddev',\n",
       " 'submodules',\n",
       " 'survival_function',\n",
       " 'trainable_variables',\n",
       " 'validate_args',\n",
       " 'variables',\n",
       " 'variance',\n",
       " 'with_name_scope']"
      ]
     },
     "execution_count": 59,
     "metadata": {},
     "output_type": "execute_result"
    }
   ],
   "source": [
    "dir(probabilities)"
   ]
  },
  {
   "cell_type": "code",
   "execution_count": 63,
   "id": "organized-honolulu",
   "metadata": {},
   "outputs": [
    {
     "name": "stdout",
     "output_type": "stream",
     "text": [
      "tf.Tensor(1.0, shape=(), dtype=float32)\n",
      "tf.Tensor(5.0, shape=(), dtype=float32)\n"
     ]
    }
   ],
   "source": [
    "print(probabilities.stddev())\n",
    "print(probabilities.mean())"
   ]
  },
  {
   "cell_type": "code",
   "execution_count": 68,
   "id": "extra-breakfast",
   "metadata": {},
   "outputs": [
    {
     "name": "stdout",
     "output_type": "stream",
     "text": [
      "tf.Tensor(\n",
      "[[0.         0.00443185 0.3988625  0.3989423  0.3988625  0.00443185\n",
      "  0.        ]], shape=(1, 7), dtype=float32)\n",
      "tf.Tensor(\n",
      "[[-113.41894     -5.4189386   -0.9191385   -0.9189385   -0.9191385\n",
      "    -5.4189386 -113.41894  ]], shape=(1, 7), dtype=float32)\n"
     ]
    }
   ],
   "source": [
    "actions = np.array([[-10, 2, 4.98, 5, 5.02, 8, 20]])\n",
    "probs = probabilities.prob(actions)\n",
    "print(probs)\n",
    "log_probs = probabilities.log_prob(actions)\n",
    "print(log_probs)"
   ]
  },
  {
   "cell_type": "code",
   "execution_count": null,
   "id": "thrown-referral",
   "metadata": {},
   "outputs": [],
   "source": []
  }
 ],
 "metadata": {
  "kernelspec": {
   "display_name": "Python 3",
   "language": "python",
   "name": "python3"
  },
  "language_info": {
   "codemirror_mode": {
    "name": "ipython",
    "version": 3
   },
   "file_extension": ".py",
   "mimetype": "text/x-python",
   "name": "python",
   "nbconvert_exporter": "python",
   "pygments_lexer": "ipython3",
   "version": "3.7.9"
  }
 },
 "nbformat": 4,
 "nbformat_minor": 5
}
