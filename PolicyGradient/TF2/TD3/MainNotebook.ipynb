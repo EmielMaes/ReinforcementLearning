{
 "cells": [
  {
   "cell_type": "code",
   "execution_count": 1,
   "id": "continuing-sunday",
   "metadata": {},
   "outputs": [],
   "source": [
    "import gym\n",
    "import numpy as np\n",
    "from td3_tf2 import Agent\n",
    "from utils import plot_learning_curve"
   ]
  },
  {
   "cell_type": "code",
   "execution_count": 2,
   "id": "favorite-suicide",
   "metadata": {},
   "outputs": [
    {
     "name": "stdout",
     "output_type": "stream",
     "text": [
      "... saving models ...\n",
      "episode  0 score -1801.6 average score -1801.6\n",
      "... saving models ...\n",
      "episode  1 score -1571.9 average score -1686.8\n",
      "... saving models ...\n",
      "episode  2 score -1161.3 average score -1511.6\n",
      "episode  3 score -1673.3 average score -1552.0\n",
      "episode  4 score -1569.3 average score -1555.5\n",
      "episode  5 score -1836.6 average score -1602.3\n",
      "episode  6 score -1337.5 average score -1564.5\n",
      "... saving models ...\n",
      "episode  7 score -1137.3 average score -1511.1\n",
      "... saving models ...\n",
      "episode  8 score -1277.3 average score -1485.1\n",
      "... saving models ...\n",
      "episode  9 score -1315.3 average score -1468.1\n"
     ]
    },
    {
     "data": {
      "image/png": "[encoded data removed]",
      "text/plain": [
       "<Figure size 432x288 with 1 Axes>"
      ]
     },
     "metadata": {
      "needs_background": "light"
     },
     "output_type": "display_data"
    }
   ],
   "source": [
    "if __name__ == '__main__':\n",
    "    #env = gym.make('LunarLanderContinuous-v2')\n",
    "    env = gym.make('Pendulum-v0')\n",
    "    #env = gym.make('BipedalWalker-v2')\n",
    "    agent = Agent(alpha=0.001, beta=0.001,\n",
    "            input_dims=env.observation_space.shape, tau=0.005,\n",
    "            env=env, batch_size=100, layer1_size=400, layer2_size=300,\n",
    "            n_actions=env.action_space.shape[0])\n",
    "    n_games = 10\n",
    "    filename = 'plots/' + 'walker_' + str(n_games) + '_games.png'\n",
    "\n",
    "    best_score = env.reward_range[0]\n",
    "    score_history = []\n",
    "\n",
    "    #If you want to load the models\n",
    "    #agent.load_models()\n",
    "\n",
    "    #Play the games\n",
    "    for i in range(n_games):\n",
    "        observation = env.reset()\n",
    "        done = False\n",
    "        score = 0\n",
    "        while not done:\n",
    "            action = agent.choose_action(observation)\n",
    "            next_observation, reward, done, info = env.step(action)\n",
    "            agent.remember(observation, action, reward, next_observation, done)\n",
    "            agent.learn()\n",
    "            score += reward\n",
    "            observation = next_observation\n",
    "        score_history.append(score)\n",
    "        avg_score = np.mean(score_history[-100:]) #takes the mean of the last 100 scores\n",
    "\n",
    "        #Save the model when it is better than the best model so far\n",
    "        if avg_score > best_score:\n",
    "            best_score = avg_score\n",
    "            agent.save_models()\n",
    "\n",
    "        print('episode ', i, 'score %.1f' % score,\n",
    "                'average score %.1f' % avg_score)\n",
    "\n",
    "    x = [i+1 for i in range(n_games)]\n",
    "    plot_learning_curve(x, score_history, filename)"
   ]
  },
  {
   "cell_type": "code",
   "execution_count": null,
   "id": "fantastic-volleyball",
   "metadata": {},
   "outputs": [],
   "source": []
  }
 ],
 "metadata": {
  "kernelspec": {
   "display_name": "Python 3",
   "language": "python",
   "name": "python3"
  },
  "language_info": {
   "codemirror_mode": {
    "name": "ipython",
    "version": 3
   },
   "file_extension": ".py",
   "mimetype": "text/x-python",
   "name": "python",
   "nbconvert_exporter": "python",
   "pygments_lexer": "ipython3",
   "version": "3.7.9"
  }
 },
 "nbformat": 4,
 "nbformat_minor": 5
}
